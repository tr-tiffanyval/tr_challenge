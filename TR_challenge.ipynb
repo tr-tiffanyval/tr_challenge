{
  "nbformat": 4,
  "nbformat_minor": 0,
  "metadata": {
    "colab": {
      "name": "TR_challenge",
      "provenance": [],
      "collapsed_sections": []
    },
    "kernelspec": {
      "name": "python3",
      "display_name": "Python 3"
    },
    "language_info": {
      "name": "python"
    }
  },
  "cells": [
    {
      "cell_type": "code",
      "metadata": {
        "id": "iXTSuCm60HMQ"
      },
      "source": [
        "import pandas as pd\n",
        "import numpy as np\n",
        "# from featexp import get_univariate_plots\n",
        "\n",
        "from sklearn.metrics import mean_absolute_error, median_absolute_error, explained_variance_score, mean_squared_error, r2_score\n",
        "from sklearn.metrics import classification_report\n",
        "import lightgbm as lgb\n",
        "from sklearn.model_selection import train_test_split\n",
        "import re \n",
        "from sklearn.preprocessing import StandardScaler\n",
        "from sklearn.cluster import KMeans\n",
        "import seaborn as sns\n"
      ],
      "execution_count": 84,
      "outputs": []
    },
    {
      "cell_type": "code",
      "metadata": {
        "id": "j0LV2PWg0Nxt"
      },
      "source": [
        "# !pip install featexp shap\n",
        "!pip freeze --local > /gdrive/'My Drive'/'Colab Notebooks'/'tr_challenge'/'requirements.txt'"
      ],
      "execution_count": 158,
      "outputs": []
    },
    {
      "cell_type": "code",
      "metadata": {
        "id": "97tGMjtM0MAh",
        "colab": {
          "base_uri": "https://localhost:8080/"
        },
        "outputId": "d9664571-def7-4501-f433-8ae469b0d688"
      },
      "source": [
        "from google.colab import drive\n",
        "drive.mount('/gdrive')\n",
        "\n",
        "%cd /gdrive/'My Drive'/'Colab Notebooks'/'tr_challenge'\n",
        "instruments = pd.read_csv('instruments.csv')\n",
        "prices = pd.read_csv('prices.csv')\n",
        "trades = pd.read_csv('trades.csv')"
      ],
      "execution_count": 2,
      "outputs": [
        {
          "output_type": "stream",
          "text": [
            "Mounted at /gdrive\n",
            "/gdrive/My Drive/Colab Notebooks/tr_challenge\n"
          ],
          "name": "stdout"
        }
      ]
    },
    {
      "cell_type": "code",
      "metadata": {
        "colab": {
          "base_uri": "https://localhost:8080/",
          "height": 221
        },
        "id": "7XvbWNGr1Sro",
        "outputId": "3eb3095c-92ee-4306-c302-b83465c95932"
      },
      "source": [
        "print(trades.shape)\n",
        "trades.head()"
      ],
      "execution_count": null,
      "outputs": [
        {
          "output_type": "stream",
          "text": [
            "(1104248, 7)\n"
          ],
          "name": "stdout"
        },
        {
          "output_type": "execute_result",
          "data": {
            "text/html": [
              "<div>\n",
              "<style scoped>\n",
              "    .dataframe tbody tr th:only-of-type {\n",
              "        vertical-align: middle;\n",
              "    }\n",
              "\n",
              "    .dataframe tbody tr th {\n",
              "        vertical-align: top;\n",
              "    }\n",
              "\n",
              "    .dataframe thead th {\n",
              "        text-align: right;\n",
              "    }\n",
              "</style>\n",
              "<table border=\"1\" class=\"dataframe\">\n",
              "  <thead>\n",
              "    <tr style=\"text-align: right;\">\n",
              "      <th></th>\n",
              "      <th>Unnamed: 0</th>\n",
              "      <th>customer_id</th>\n",
              "      <th>execution_time</th>\n",
              "      <th>direction</th>\n",
              "      <th>execution_size</th>\n",
              "      <th>execution_price</th>\n",
              "      <th>instrument_id</th>\n",
              "    </tr>\n",
              "  </thead>\n",
              "  <tbody>\n",
              "    <tr>\n",
              "      <th>0</th>\n",
              "      <td>0</td>\n",
              "      <td>4216</td>\n",
              "      <td>2020-01-02 20:00:00</td>\n",
              "      <td>BUY</td>\n",
              "      <td>1.0</td>\n",
              "      <td>8.49</td>\n",
              "      <td>59.0</td>\n",
              "    </tr>\n",
              "    <tr>\n",
              "      <th>1</th>\n",
              "      <td>1</td>\n",
              "      <td>1202</td>\n",
              "      <td>2020-01-06 11:00:00</td>\n",
              "      <td>BUY</td>\n",
              "      <td>10.0</td>\n",
              "      <td>8.92</td>\n",
              "      <td>59.0</td>\n",
              "    </tr>\n",
              "    <tr>\n",
              "      <th>2</th>\n",
              "      <td>2</td>\n",
              "      <td>4129</td>\n",
              "      <td>2020-01-07 18:00:00</td>\n",
              "      <td>BUY</td>\n",
              "      <td>4.0</td>\n",
              "      <td>8.90</td>\n",
              "      <td>59.0</td>\n",
              "    </tr>\n",
              "    <tr>\n",
              "      <th>3</th>\n",
              "      <td>3</td>\n",
              "      <td>4129</td>\n",
              "      <td>2020-01-07 18:00:00</td>\n",
              "      <td>SELL</td>\n",
              "      <td>4.0</td>\n",
              "      <td>8.88</td>\n",
              "      <td>59.0</td>\n",
              "    </tr>\n",
              "    <tr>\n",
              "      <th>4</th>\n",
              "      <td>4</td>\n",
              "      <td>4207</td>\n",
              "      <td>2020-01-20 10:00:00</td>\n",
              "      <td>BUY</td>\n",
              "      <td>1.0</td>\n",
              "      <td>8.83</td>\n",
              "      <td>59.0</td>\n",
              "    </tr>\n",
              "  </tbody>\n",
              "</table>\n",
              "</div>"
            ],
            "text/plain": [
              "   Unnamed: 0  customer_id  ... execution_price instrument_id\n",
              "0           0         4216  ...            8.49          59.0\n",
              "1           1         1202  ...            8.92          59.0\n",
              "2           2         4129  ...            8.90          59.0\n",
              "3           3         4129  ...            8.88          59.0\n",
              "4           4         4207  ...            8.83          59.0\n",
              "\n",
              "[5 rows x 7 columns]"
            ]
          },
          "metadata": {
            "tags": []
          },
          "execution_count": 11
        }
      ]
    },
    {
      "cell_type": "code",
      "metadata": {
        "colab": {
          "base_uri": "https://localhost:8080/",
          "height": 221
        },
        "id": "ERQ7pfnG1rGc",
        "outputId": "bed48a6b-925f-4d28-e06f-ef3cd390b3cc"
      },
      "source": [
        "print(instruments.shape)\n",
        "instruments.head()"
      ],
      "execution_count": null,
      "outputs": [
        {
          "output_type": "stream",
          "text": [
            "(625, 5)\n"
          ],
          "name": "stdout"
        },
        {
          "output_type": "execute_result",
          "data": {
            "text/html": [
              "<div>\n",
              "<style scoped>\n",
              "    .dataframe tbody tr th:only-of-type {\n",
              "        vertical-align: middle;\n",
              "    }\n",
              "\n",
              "    .dataframe tbody tr th {\n",
              "        vertical-align: top;\n",
              "    }\n",
              "\n",
              "    .dataframe thead th {\n",
              "        text-align: right;\n",
              "    }\n",
              "</style>\n",
              "<table border=\"1\" class=\"dataframe\">\n",
              "  <thead>\n",
              "    <tr style=\"text-align: right;\">\n",
              "      <th></th>\n",
              "      <th>instrument_id</th>\n",
              "      <th>sector_name</th>\n",
              "      <th>country_name</th>\n",
              "      <th>index_name</th>\n",
              "      <th>instrument_type</th>\n",
              "    </tr>\n",
              "  </thead>\n",
              "  <tbody>\n",
              "    <tr>\n",
              "      <th>0</th>\n",
              "      <td>0</td>\n",
              "      <td>{Touristik}</td>\n",
              "      <td>{Bermuda-Inseln}</td>\n",
              "      <td>{SP500}</td>\n",
              "      <td>STOCK</td>\n",
              "    </tr>\n",
              "    <tr>\n",
              "      <th>1</th>\n",
              "      <td>1</td>\n",
              "      <td>{\"\"}</td>\n",
              "      <td>{\"\"}</td>\n",
              "      <td>{\"\"}</td>\n",
              "      <td>STOCK</td>\n",
              "    </tr>\n",
              "    <tr>\n",
              "      <th>2</th>\n",
              "      <td>2</td>\n",
              "      <td>{Genussmittel}</td>\n",
              "      <td>{Kanada}</td>\n",
              "      <td>{\"\"}</td>\n",
              "      <td>STOCK</td>\n",
              "    </tr>\n",
              "    <tr>\n",
              "      <th>3</th>\n",
              "      <td>3</td>\n",
              "      <td>{\"Elektronik &amp; Haushalt\"}</td>\n",
              "      <td>{China}</td>\n",
              "      <td>{\"\"}</td>\n",
              "      <td>STOCK</td>\n",
              "    </tr>\n",
              "    <tr>\n",
              "      <th>4</th>\n",
              "      <td>4</td>\n",
              "      <td>{Finanzen}</td>\n",
              "      <td>{Deutschland}</td>\n",
              "      <td>{DAX}</td>\n",
              "      <td>STOCK</td>\n",
              "    </tr>\n",
              "  </tbody>\n",
              "</table>\n",
              "</div>"
            ],
            "text/plain": [
              "   instrument_id                sector_name  ... index_name instrument_type\n",
              "0              0                {Touristik}  ...    {SP500}           STOCK\n",
              "1              1                       {\"\"}  ...       {\"\"}           STOCK\n",
              "2              2             {Genussmittel}  ...       {\"\"}           STOCK\n",
              "3              3  {\"Elektronik & Haushalt\"}  ...       {\"\"}           STOCK\n",
              "4              4                 {Finanzen}  ...      {DAX}           STOCK\n",
              "\n",
              "[5 rows x 5 columns]"
            ]
          },
          "metadata": {
            "tags": []
          },
          "execution_count": 12
        }
      ]
    },
    {
      "cell_type": "code",
      "metadata": {
        "colab": {
          "base_uri": "https://localhost:8080/",
          "height": 221
        },
        "id": "4pE9Ncvy1sqZ",
        "outputId": "6d61ea07-808f-4ac8-a3a3-ebb9217349b1"
      },
      "source": [
        "print(prices.shape)\n",
        "prices.head()"
      ],
      "execution_count": null,
      "outputs": [
        {
          "output_type": "stream",
          "text": [
            "(170446, 3)\n"
          ],
          "name": "stdout"
        },
        {
          "output_type": "execute_result",
          "data": {
            "text/html": [
              "<div>\n",
              "<style scoped>\n",
              "    .dataframe tbody tr th:only-of-type {\n",
              "        vertical-align: middle;\n",
              "    }\n",
              "\n",
              "    .dataframe tbody tr th {\n",
              "        vertical-align: top;\n",
              "    }\n",
              "\n",
              "    .dataframe thead th {\n",
              "        text-align: right;\n",
              "    }\n",
              "</style>\n",
              "<table border=\"1\" class=\"dataframe\">\n",
              "  <thead>\n",
              "    <tr style=\"text-align: right;\">\n",
              "      <th></th>\n",
              "      <th>date</th>\n",
              "      <th>price</th>\n",
              "      <th>instrument_id</th>\n",
              "    </tr>\n",
              "  </thead>\n",
              "  <tbody>\n",
              "    <tr>\n",
              "      <th>0</th>\n",
              "      <td>2020-12-10</td>\n",
              "      <td>2.5310</td>\n",
              "      <td>576</td>\n",
              "    </tr>\n",
              "    <tr>\n",
              "      <th>1</th>\n",
              "      <td>2020-01-01</td>\n",
              "      <td>1.2482</td>\n",
              "      <td>576</td>\n",
              "    </tr>\n",
              "    <tr>\n",
              "      <th>2</th>\n",
              "      <td>2020-02-01</td>\n",
              "      <td>1.3276</td>\n",
              "      <td>576</td>\n",
              "    </tr>\n",
              "    <tr>\n",
              "      <th>3</th>\n",
              "      <td>2020-03-01</td>\n",
              "      <td>1.2752</td>\n",
              "      <td>576</td>\n",
              "    </tr>\n",
              "    <tr>\n",
              "      <th>4</th>\n",
              "      <td>2020-04-01</td>\n",
              "      <td>1.2752</td>\n",
              "      <td>576</td>\n",
              "    </tr>\n",
              "  </tbody>\n",
              "</table>\n",
              "</div>"
            ],
            "text/plain": [
              "        date   price  instrument_id\n",
              "0 2020-12-10  2.5310            576\n",
              "1 2020-01-01  1.2482            576\n",
              "2 2020-02-01  1.3276            576\n",
              "3 2020-03-01  1.2752            576\n",
              "4 2020-04-01  1.2752            576"
            ]
          },
          "metadata": {
            "tags": []
          },
          "execution_count": 82
        }
      ]
    },
    {
      "cell_type": "markdown",
      "metadata": {
        "id": "tPg5_qmFXyEQ"
      },
      "source": [
        "# Preprocess Data"
      ]
    },
    {
      "cell_type": "code",
      "metadata": {
        "id": "tVAFDTbsXznW"
      },
      "source": [
        "trades['exec_date'] = trades.execution_time.apply(lambda x: x[:10])\n",
        "trades['exec_date'] = pd.to_datetime(trades.exec_date)\n",
        "trades = trades.loc[trades.execution_size > 0]\n",
        "prices['date'] = pd.to_datetime(prices.date)\n",
        "\n",
        "\n",
        "def parse_sector_name(sector_str):\n",
        "    # split and remove all special chars in sectors, convert to lower cases and sets\n",
        "    if type(sector_str) == str:\n",
        "        sector_str = re.sub('[^A-Za-z0-9,]+', '', sector_str).lower()\n",
        "        strings_list = set(sector_str.split(','))\n",
        "        return strings_list\n",
        "    else:\n",
        "        return set()\n",
        "\n",
        "instruments.sector_name = instruments.sector_name.apply(parse_sector_name)\n",
        "instruments.country_name = instruments.country_name.apply(parse_sector_name)\n",
        "instruments.index_name = instruments.index_name.apply(parse_sector_name)"
      ],
      "execution_count": 3,
      "outputs": []
    },
    {
      "cell_type": "code",
      "metadata": {
        "colab": {
          "base_uri": "https://localhost:8080/"
        },
        "id": "7PBMrg1nRhTW",
        "outputId": "49f6740f-969f-4aa4-dee0-6e12c44f459c"
      },
      "source": [
        "#joining all three tables\n",
        "\n",
        "df = trades.merge(instruments, left_on='instrument_id', right_on='instrument_id', how='left')\n",
        "df = df.merge(prices, left_on=['instrument_id', 'exec_date'], right_on=['instrument_id', 'date'], how='left')\n",
        "df = df.drop(['date', 'Unnamed: 0'], axis=1)\n",
        "df['trade_vol'] = df.execution_price * df.execution_size\n",
        "df['signed_trade_vol'] = df.apply(lambda row: -1 * row['trade_vol'] if row['direction'] != 'BUY' else row['trade_vol'], axis = 1)\n",
        "print(df.isna().any())\n",
        "\n",
        "\n",
        "# fill in prices, then dropping rows with nan size and prices and instrument_id (each of them only has one nan entry)\n",
        "\n",
        "df['execution_price'] = df.execution_price.fillna(df.price)\n",
        "df = df.loc[~df[['execution_size', 'execution_price', 'instrument_id']].isna().any(axis=1)]\n"
      ],
      "execution_count": 4,
      "outputs": [
        {
          "output_type": "stream",
          "text": [
            "customer_id         False\n",
            "execution_time      False\n",
            "direction           False\n",
            "execution_size      False\n",
            "execution_price     False\n",
            "instrument_id        True\n",
            "exec_date           False\n",
            "sector_name          True\n",
            "country_name         True\n",
            "index_name           True\n",
            "instrument_type      True\n",
            "price                True\n",
            "trade_vol           False\n",
            "signed_trade_vol    False\n",
            "dtype: bool\n"
          ],
          "name": "stdout"
        }
      ]
    },
    {
      "cell_type": "code",
      "metadata": {
        "id": "J254JMXUhOKI"
      },
      "source": [
        "def calculate_metrics_cust(cust_id):\n",
        "    cust_df = df.loc[df.customer_id == cust_id].sort_values(['execution_time', 'direction'])\n",
        "    return get_features(cust_df)\n",
        "\n",
        "def get_features(cust_df):\n",
        "    inventory = {}\n",
        "    closed_positions = {}\n",
        "    realized_pl = 0\n",
        "    \n",
        "    # calculate realized p&l \n",
        "    for index, row in cust_df.iterrows():\n",
        "        action = row['direction']\n",
        "        size = round( row['execution_size'], 4)\n",
        "        px = round( row['execution_price'], 4)\n",
        "        security = row['instrument_id']\n",
        "        \n",
        "        if action == 'BUY' and security in inventory:\n",
        "            closing_position = inventory[security]['size'] < 0\n",
        "\n",
        "            if closing_position:\n",
        "                # if avg_px of your shorted px is more than current px, then positive gains\n",
        "                # if avg_px of shorted is less than current px, then negative gains\n",
        "                realized_pl += abs(inventory[security]['size']) * inventory[security]['avg_px'] - size * px\n",
        "            else:\n",
        "                avg_px = (inventory[security]['avg_px'] * inventory[security]['size'] + size * px) / (size + inventory[security]['size'])\n",
        "                inventory[security]['avg_px'] = avg_px\n",
        "\n",
        "            inventory[security]['size'] += size\n",
        "\n",
        "\n",
        "        elif action == 'BUY' and security not in inventory:\n",
        "            inventory[security] = {}\n",
        "            inventory[security]['size'] = size\n",
        "            inventory[security]['avg_px'] = px\n",
        "\n",
        "        elif action == 'SELL' and security not in inventory:\n",
        "            inventory[security] = {}\n",
        "            inventory[security]['size'] = -1 * size\n",
        "            inventory[security]['avg_px'] = px\n",
        "\n",
        "        elif action == 'SELL' and security in inventory:\n",
        "\n",
        "            closing_position = inventory[security]['size'] > 0\n",
        "\n",
        "            if closing_position:\n",
        "                realized_pl += size * px - abs(inventory[security]['size']) * inventory[security]['avg_px']\n",
        "                \n",
        "            else:\n",
        "                # print(inventory[security], size, px)\n",
        "                avg_px = (inventory[security]['avg_px'] * abs(inventory[security]['size']) + size * px) / (size + abs(inventory[security]['size']))\n",
        "                inventory[security]['avg_px'] = avg_px\n",
        "\n",
        "            inventory[security]['size'] -= size\n",
        "            \n",
        "        else:\n",
        "            print('invalid action')\n",
        "            raise ValueError\n",
        "\n",
        "    # consolidate gains, calculate overall performance and unrealized p&l\n",
        "    latest_date = df.iloc[-1].exec_date\n",
        "    latest_prices = prices.loc[prices.date == latest_date].set_index('instrument_id')\n",
        "\n",
        "    unrealized_pl = 0\n",
        "    market_cap_portfolio = 0\n",
        "    for sec_id in inventory:\n",
        "        holdings = inventory[sec_id]\n",
        "        # print(holdings, latest_prices)\n",
        "        latest_px = latest_prices.loc[sec_id]['price']\n",
        "        unrealized_pl += (latest_px - holdings['avg_px']) * holdings['size']\n",
        "        market_cap_portfolio += latest_px * abs(holdings['size'])\n",
        "    performance = unrealized_pl + realized_pl\n",
        "\n",
        "\n",
        "    # calculate instruments traded\n",
        "    instruments_traded = cust_df.instrument_id.nunique()\n",
        "    \n",
        "    #calculate sectors_tradedd\n",
        "    sectors_traded = set()\n",
        "    for i in cust_df.sector_name:\n",
        "        sectors_traded = sectors_traded.union(i)\n",
        "    sectors_traded = len(sectors_traded)\n",
        "\n",
        "\n",
        "    ##### additional metrics\n",
        "    lifetime = (latest_date - cust_df.iloc[0].exec_date).days\n",
        "    days_since_last_trade = (latest_date - cust_df.iloc[-1].exec_date).days \n",
        "    gaps = (cust_df.exec_date - cust_df.shift(1).exec_date).apply(lambda x: x.days)\n",
        "    avg_time_gap = gaps.mean()\n",
        "    std_time_gap = gaps.std()\n",
        "\n",
        "    hhi = 0\n",
        "    if round(market_cap_portfolio) != 0:\n",
        "        for sec_id in inventory:\n",
        "            holdings = inventory[sec_id]\n",
        "            latest_px = latest_prices.loc[sec_id]['price']\n",
        "            hhi += (latest_px * holdings['size'] / (market_cap_portfolio)) ** 2\n",
        "    # if hhi > 1: print(hhi, market_cap_portfolio, inventory)\n",
        "    # monthly avg volume, number of trades, and avg trade sizes\n",
        "    dat = cust_df.groupby(cust_df['exec_date'].dt.month).agg({'trade_vol': ['sum', ], 'execution_size': 'count',}).sum(axis=0) / 12\n",
        "    avg_vol = dat[0]\n",
        "    num_trades = dat[1]\n",
        "\n",
        "\n",
        "\n",
        "    return [unrealized_pl, realized_pl, performance, instruments_traded, \n",
        "            sectors_traded, market_cap_portfolio, \n",
        "            avg_vol, num_trades,\n",
        "            lifetime, days_since_last_trade, avg_time_gap, std_time_gap, hhi]\n",
        "\n",
        "def get_feature_target(cust_id):\n",
        "    cust_df = df.loc[df.customer_id == cust_id].sort_values(['execution_time', 'direction'])\n",
        "    features = get_features(cust_df.iloc[:3])\n",
        "    start_date_target = cust_df.iloc[0].exec_date + pd.Timedelta(\"180 days\")\n",
        "    end_date_target = start_date_target + pd.Timedelta(\"30 days\")\n",
        "\n",
        "    if start_date_target >= pd.to_datetime('2020-12-01'): \n",
        "        # ('biased target, skipping this customer ')  \n",
        "        return [np.nan for i in range(14) ]\n",
        "\n",
        "    target_df = cust_df.loc[(cust_df.exec_date >= start_date_target) & (cust_df.exec_date < end_date_target)]\n",
        "\n",
        "    target = target_df.shape[0]\n",
        "    return features + [target]\n",
        "\n"
      ],
      "execution_count": 6,
      "outputs": []
    },
    {
      "cell_type": "markdown",
      "metadata": {
        "id": "G6ICGeEG2Jjn"
      },
      "source": [
        "# Part 1. Find rolling users for each day "
      ]
    },
    {
      "cell_type": "markdown",
      "metadata": {
        "id": "ay_d3PrC-wA1"
      },
      "source": [
        "This part is done in Pandas since data is provided as CSV and I couldn't set up a SQL server locally on my PC due to compatibility issues. If an actual SQL query is needed for this part, I can convert the code into a query from Pandas/python below."
      ]
    },
    {
      "cell_type": "code",
      "metadata": {
        "colab": {
          "base_uri": "https://localhost:8080/",
          "height": 450
        },
        "id": "pnITVXyw2N47",
        "outputId": "d4e1ac69-10a4-4f4e-c163-b170d4ad3eb8"
      },
      "source": [
        "# correcting incorrect hours (some have 25th hour stamp), truncating them to date only\n",
        "# defining monthly as last 30 days\n",
        "\n",
        "\n",
        "customers_per_day = trades.groupby('exec_date').agg({'customer_id': 'nunique', 'execution_time': 'count'})\n",
        "\n",
        "customers_per_day['weekly_rolling_active_users'] = customers_per_day.customer_id.rolling('7D').sum()\n",
        "customers_per_day['monthly_rolling_active_users'] = customers_per_day.customer_id.rolling('30D').sum()\n",
        "customers_per_day = customers_per_day.rename({'execution_time': 'trades_vol'}, axis=1)\n",
        "customers_per_day"
      ],
      "execution_count": null,
      "outputs": [
        {
          "output_type": "execute_result",
          "data": {
            "text/html": [
              "<div>\n",
              "<style scoped>\n",
              "    .dataframe tbody tr th:only-of-type {\n",
              "        vertical-align: middle;\n",
              "    }\n",
              "\n",
              "    .dataframe tbody tr th {\n",
              "        vertical-align: top;\n",
              "    }\n",
              "\n",
              "    .dataframe thead th {\n",
              "        text-align: right;\n",
              "    }\n",
              "</style>\n",
              "<table border=\"1\" class=\"dataframe\">\n",
              "  <thead>\n",
              "    <tr style=\"text-align: right;\">\n",
              "      <th></th>\n",
              "      <th>customer_id</th>\n",
              "      <th>trades_vol</th>\n",
              "      <th>weekly_rolling_active_users</th>\n",
              "      <th>monthly_rolling_active_users</th>\n",
              "    </tr>\n",
              "    <tr>\n",
              "      <th>exec_date</th>\n",
              "      <th></th>\n",
              "      <th></th>\n",
              "      <th></th>\n",
              "      <th></th>\n",
              "    </tr>\n",
              "  </thead>\n",
              "  <tbody>\n",
              "    <tr>\n",
              "      <th>2020-01-02</th>\n",
              "      <td>532</td>\n",
              "      <td>989</td>\n",
              "      <td>532.0</td>\n",
              "      <td>532.0</td>\n",
              "    </tr>\n",
              "    <tr>\n",
              "      <th>2020-01-03</th>\n",
              "      <td>190</td>\n",
              "      <td>332</td>\n",
              "      <td>722.0</td>\n",
              "      <td>722.0</td>\n",
              "    </tr>\n",
              "    <tr>\n",
              "      <th>2020-01-06</th>\n",
              "      <td>239</td>\n",
              "      <td>400</td>\n",
              "      <td>961.0</td>\n",
              "      <td>961.0</td>\n",
              "    </tr>\n",
              "    <tr>\n",
              "      <th>2020-01-07</th>\n",
              "      <td>237</td>\n",
              "      <td>399</td>\n",
              "      <td>1198.0</td>\n",
              "      <td>1198.0</td>\n",
              "    </tr>\n",
              "    <tr>\n",
              "      <th>2020-01-08</th>\n",
              "      <td>259</td>\n",
              "      <td>459</td>\n",
              "      <td>1457.0</td>\n",
              "      <td>1457.0</td>\n",
              "    </tr>\n",
              "    <tr>\n",
              "      <th>...</th>\n",
              "      <td>...</td>\n",
              "      <td>...</td>\n",
              "      <td>...</td>\n",
              "      <td>...</td>\n",
              "    </tr>\n",
              "    <tr>\n",
              "      <th>2020-12-22</th>\n",
              "      <td>2101</td>\n",
              "      <td>3789</td>\n",
              "      <td>15818.0</td>\n",
              "      <td>58411.0</td>\n",
              "    </tr>\n",
              "    <tr>\n",
              "      <th>2020-12-23</th>\n",
              "      <td>2010</td>\n",
              "      <td>3531</td>\n",
              "      <td>10567.0</td>\n",
              "      <td>57880.0</td>\n",
              "    </tr>\n",
              "    <tr>\n",
              "      <th>2020-12-28</th>\n",
              "      <td>3386</td>\n",
              "      <td>6563</td>\n",
              "      <td>7497.0</td>\n",
              "      <td>53184.0</td>\n",
              "    </tr>\n",
              "    <tr>\n",
              "      <th>2020-12-29</th>\n",
              "      <td>2627</td>\n",
              "      <td>4959</td>\n",
              "      <td>8023.0</td>\n",
              "      <td>55811.0</td>\n",
              "    </tr>\n",
              "    <tr>\n",
              "      <th>2020-12-30</th>\n",
              "      <td>1203</td>\n",
              "      <td>2074</td>\n",
              "      <td>7216.0</td>\n",
              "      <td>54273.0</td>\n",
              "    </tr>\n",
              "  </tbody>\n",
              "</table>\n",
              "<p>254 rows × 4 columns</p>\n",
              "</div>"
            ],
            "text/plain": [
              "            customer_id  ...  monthly_rolling_active_users\n",
              "exec_date                ...                              \n",
              "2020-01-02          532  ...                         532.0\n",
              "2020-01-03          190  ...                         722.0\n",
              "2020-01-06          239  ...                         961.0\n",
              "2020-01-07          237  ...                        1198.0\n",
              "2020-01-08          259  ...                        1457.0\n",
              "...                 ...  ...                           ...\n",
              "2020-12-22         2101  ...                       58411.0\n",
              "2020-12-23         2010  ...                       57880.0\n",
              "2020-12-28         3386  ...                       53184.0\n",
              "2020-12-29         2627  ...                       55811.0\n",
              "2020-12-30         1203  ...                       54273.0\n",
              "\n",
              "[254 rows x 4 columns]"
            ]
          },
          "metadata": {
            "tags": []
          },
          "execution_count": 12
        }
      ]
    },
    {
      "cell_type": "markdown",
      "metadata": {
        "id": "nwhRJzAQJTjG"
      },
      "source": [
        "# Part 2. Analyze Trading Activity Data\n",
        "\n",
        "**Metrics provided**:\n",
        "- Cumulative customers\n",
        "- Number of trades\n",
        "- Volume of trades\n",
        "- Average trade size\n",
        "- Assets held by customers (at current value)\n",
        "\n",
        "\n",
        "\n",
        "**Other metrics**:\n",
        "\n",
        "Rationale - we want to prioritize customers who will be trading consistently on the TR platform, rather than customers who are likely to binge use TR for a short period of time, then never coming back again.\n",
        "\n",
        "\n",
        "Proposed  metrics to capture the quality of customers:\n",
        "\n",
        "- Avg cardinality instruments traded (measures diversity/breadth of securities, higher is better -> better user stickiness)\n",
        "\n",
        "\n",
        "Additional metrics we could look into but I didn't have time to code them:\n",
        "- Average customer lifetime (measures freshness or staleness of customers, lower is better - more new cusotmers)\n",
        "- Days from last trade (measures platform loyalty/stickiness, lower is better)\n",
        "- Average gap between trades (measures frequency, higher is better)\n",
        "- Std between trades (measures consistency of trades, lower is better)\n",
        "- Top 5 instrument traded as a % of daily vol (measures diversity/concentration of securities, lower is better -> more diverse)\n"
      ]
    },
    {
      "cell_type": "code",
      "metadata": {
        "colab": {
          "base_uri": "https://localhost:8080/",
          "height": 309
        },
        "id": "py88dCQbUV6p",
        "outputId": "f65d6740-f2ae-4417-a3c5-10086bb668aa"
      },
      "source": [
        "df.head()"
      ],
      "execution_count": null,
      "outputs": [
        {
          "output_type": "execute_result",
          "data": {
            "text/html": [
              "<div>\n",
              "<style scoped>\n",
              "    .dataframe tbody tr th:only-of-type {\n",
              "        vertical-align: middle;\n",
              "    }\n",
              "\n",
              "    .dataframe tbody tr th {\n",
              "        vertical-align: top;\n",
              "    }\n",
              "\n",
              "    .dataframe thead th {\n",
              "        text-align: right;\n",
              "    }\n",
              "</style>\n",
              "<table border=\"1\" class=\"dataframe\">\n",
              "  <thead>\n",
              "    <tr style=\"text-align: right;\">\n",
              "      <th></th>\n",
              "      <th>customer_id</th>\n",
              "      <th>execution_time</th>\n",
              "      <th>direction</th>\n",
              "      <th>execution_size</th>\n",
              "      <th>execution_price</th>\n",
              "      <th>instrument_id</th>\n",
              "      <th>exec_date</th>\n",
              "      <th>sector_name</th>\n",
              "      <th>country_name</th>\n",
              "      <th>index_name</th>\n",
              "      <th>instrument_type</th>\n",
              "      <th>price</th>\n",
              "      <th>trade_vol</th>\n",
              "      <th>signed_trade_vol</th>\n",
              "    </tr>\n",
              "  </thead>\n",
              "  <tbody>\n",
              "    <tr>\n",
              "      <th>0</th>\n",
              "      <td>4216</td>\n",
              "      <td>2020-01-02 20:00:00</td>\n",
              "      <td>BUY</td>\n",
              "      <td>1.0</td>\n",
              "      <td>8.49</td>\n",
              "      <td>59.0</td>\n",
              "      <td>2020-01-02</td>\n",
              "      <td>{\"\"}</td>\n",
              "      <td>{\"\"}</td>\n",
              "      <td>{\"\"}</td>\n",
              "      <td>DERIVATIVE</td>\n",
              "      <td>9.02</td>\n",
              "      <td>8.49</td>\n",
              "      <td>8.49</td>\n",
              "    </tr>\n",
              "    <tr>\n",
              "      <th>1</th>\n",
              "      <td>1202</td>\n",
              "      <td>2020-01-06 11:00:00</td>\n",
              "      <td>BUY</td>\n",
              "      <td>10.0</td>\n",
              "      <td>8.92</td>\n",
              "      <td>59.0</td>\n",
              "      <td>2020-01-06</td>\n",
              "      <td>{\"\"}</td>\n",
              "      <td>{\"\"}</td>\n",
              "      <td>{\"\"}</td>\n",
              "      <td>DERIVATIVE</td>\n",
              "      <td>10.31</td>\n",
              "      <td>89.20</td>\n",
              "      <td>89.20</td>\n",
              "    </tr>\n",
              "    <tr>\n",
              "      <th>2</th>\n",
              "      <td>4129</td>\n",
              "      <td>2020-01-07 18:00:00</td>\n",
              "      <td>BUY</td>\n",
              "      <td>4.0</td>\n",
              "      <td>8.90</td>\n",
              "      <td>59.0</td>\n",
              "      <td>2020-01-07</td>\n",
              "      <td>{\"\"}</td>\n",
              "      <td>{\"\"}</td>\n",
              "      <td>{\"\"}</td>\n",
              "      <td>DERIVATIVE</td>\n",
              "      <td>10.63</td>\n",
              "      <td>35.60</td>\n",
              "      <td>35.60</td>\n",
              "    </tr>\n",
              "    <tr>\n",
              "      <th>3</th>\n",
              "      <td>4129</td>\n",
              "      <td>2020-01-07 18:00:00</td>\n",
              "      <td>SELL</td>\n",
              "      <td>4.0</td>\n",
              "      <td>8.88</td>\n",
              "      <td>59.0</td>\n",
              "      <td>2020-01-07</td>\n",
              "      <td>{\"\"}</td>\n",
              "      <td>{\"\"}</td>\n",
              "      <td>{\"\"}</td>\n",
              "      <td>DERIVATIVE</td>\n",
              "      <td>10.63</td>\n",
              "      <td>35.52</td>\n",
              "      <td>-35.52</td>\n",
              "    </tr>\n",
              "    <tr>\n",
              "      <th>4</th>\n",
              "      <td>4207</td>\n",
              "      <td>2020-01-20 10:00:00</td>\n",
              "      <td>BUY</td>\n",
              "      <td>1.0</td>\n",
              "      <td>8.83</td>\n",
              "      <td>59.0</td>\n",
              "      <td>2020-01-20</td>\n",
              "      <td>{\"\"}</td>\n",
              "      <td>{\"\"}</td>\n",
              "      <td>{\"\"}</td>\n",
              "      <td>DERIVATIVE</td>\n",
              "      <td>8.84</td>\n",
              "      <td>8.83</td>\n",
              "      <td>8.83</td>\n",
              "    </tr>\n",
              "  </tbody>\n",
              "</table>\n",
              "</div>"
            ],
            "text/plain": [
              "   customer_id       execution_time  ... trade_vol  signed_trade_vol\n",
              "0         4216  2020-01-02 20:00:00  ...      8.49              8.49\n",
              "1         1202  2020-01-06 11:00:00  ...     89.20             89.20\n",
              "2         4129  2020-01-07 18:00:00  ...     35.60             35.60\n",
              "3         4129  2020-01-07 18:00:00  ...     35.52            -35.52\n",
              "4         4207  2020-01-20 10:00:00  ...      8.83              8.83\n",
              "\n",
              "[5 rows x 14 columns]"
            ]
          },
          "metadata": {
            "tags": []
          },
          "execution_count": 66
        }
      ]
    },
    {
      "cell_type": "code",
      "metadata": {
        "id": "zPqKLg3lT4FK"
      },
      "source": [
        "data_df = df.groupby('exec_date').agg({'customer_id': 'nunique', \n",
        "                             'execution_time': 'count', \n",
        "                             'trade_vol': ['mean', 'sum'], \n",
        "                             'signed_trade_vol': 'sum' , \n",
        "                             'instrument_id': 'nunique'}).rolling('14D').mean()\n",
        "data_df.columns =  [' '.join(col).strip() for col in data_df.columns.values]"
      ],
      "execution_count": null,
      "outputs": []
    },
    {
      "cell_type": "code",
      "metadata": {
        "colab": {
          "base_uri": "https://localhost:8080/",
          "height": 952
        },
        "id": "49xcrMhpaW_o",
        "outputId": "7ce4ab65-0ede-4013-b28c-a6c5da45b197"
      },
      "source": [
        "data_df.plot(subplots=True, \n",
        "                    title=['Daily Active Users', 'Number of Trades', 'Mean Trade Volume', 'Total Trade Volume', 'Asset Inflow', 'Instrument Cardinality'], figsize=(10, 15))"
      ],
      "execution_count": null,
      "outputs": [
        {
          "output_type": "execute_result",
          "data": {
            "text/plain": [
              "array([<matplotlib.axes._subplots.AxesSubplot object at 0x7f90c2be4990>,\n",
              "       <matplotlib.axes._subplots.AxesSubplot object at 0x7f90c2bc1f90>,\n",
              "       <matplotlib.axes._subplots.AxesSubplot object at 0x7f90c2b9cc90>,\n",
              "       <matplotlib.axes._subplots.AxesSubplot object at 0x7f90c2b31790>,\n",
              "       <matplotlib.axes._subplots.AxesSubplot object at 0x7f90c1119b90>,\n",
              "       <matplotlib.axes._subplots.AxesSubplot object at 0x7f90c0c0cf90>],\n",
              "      dtype=object)"
            ]
          },
          "metadata": {
            "tags": []
          },
          "execution_count": 22
        },
        {
          "output_type": "display_data",
          "data": {
            "image/png": "[encoded data removed]",
            "text/plain": [
              "<Figure size 720x1080 with 6 Axes>"
            ]
          },
          "metadata": {
            "tags": [],
            "needs_background": "light"
          }
        }
      ]
    },
    {
      "cell_type": "markdown",
      "metadata": {
        "id": "fFE3bbBSbsLz"
      },
      "source": [
        "## Insights from the graphs above\n",
        "1. DAU, number of trades increased up until mid 2020, then exhibited a slight drop thereafter (could be seasonality)\n",
        "2. Mean Trade Volumes have been more or less constant, meaning the new customers joining TR are more likely to be from the same cohorts as before\n",
        "3. We're seeing mostly positive asset inflow into TR throughout 2020 - this is a good thing, since it means customers are parking their money at TR\n",
        "4. Trade instrument cardinality increased up till March 2020 then dropped slightly towards the end -> needs more investigation, but could be due to new customers joining are less likely to be day traders trading a lot of stocks, but buy and hold customers \n"
      ]
    },
    {
      "cell_type": "markdown",
      "metadata": {
        "id": "3s5MDncOcqDB"
      },
      "source": [
        "# Part 3. Clustering Customers "
      ]
    },
    {
      "cell_type": "markdown",
      "metadata": {
        "id": "EKH3jUhqVmeN"
      },
      "source": [
        "Calculate some basic features for each customer:\n",
        "- Monthly volume, trades, and respective avg. trade size\n",
        "- Performance - gains of each customer over time:\n",
        "- realized profits, where there is a sell trade following the buy, and\n",
        "- virtual profits, where there is no corresponding sell trade yet (value the open position at the last end of day\n",
        "price)\n",
        "- Distinct number of instruments they traded, and distinct number of sectors\n",
        "\n",
        "\n",
        "Here I am gonna add a few additional metrics, including\n",
        "- Customer Lifetime (measuring loyalty)\n",
        "- Days since last trade (measuring activeness)\n",
        "- Avg. gap in days between trades (measuring consistency)\n",
        "- Herfindahl-Hirschman Index of portfolio (measuring concentration, closer to 0 is better -> more diverse securities)\n",
        "- Top type of instrument type (derivative traders are more speculative -> less loyalty)"
      ]
    },
    {
      "cell_type": "code",
      "metadata": {
        "id": "ydMCEydeNdyC"
      },
      "source": [
        "# generating features we discussed above\n",
        "# assume shorting is allowed, judging by the fact that there are customers selling more than what they own\n",
        "\n",
        "cols = ['unrealized_pl', 'realized_pl', 'performance', 'instruments_traded', \n",
        "            'sectors_traded', 'market_cap_portfolio', \n",
        "            'avg_vol', 'num_trades',\n",
        "            'lifetime', 'days_since_last_trade', 'avg_time_gap', 'std_time_gap', 'hhi']\n",
        "\n",
        "customer_features = pd.DataFrame(\n",
        "    index = df.customer_id.unique(),\n",
        "    columns = cols\n",
        ")\n",
        "\n",
        "sampled_cust_features = customer_features.sample(5000, random_state=0).apply(lambda x: calculate_metrics_cust(x.name), axis=1, result_type='expand')\n",
        "sampled_cust_features.columns = cols\n",
        "sampled_cust_features.fillna(0, inplace=True)"
      ],
      "execution_count": 7,
      "outputs": []
    },
    {
      "cell_type": "code",
      "metadata": {
        "colab": {
          "base_uri": "https://localhost:8080/",
          "height": 317
        },
        "id": "573u0V95VGGA",
        "outputId": "328fe2cb-af39-4a2a-affe-e19bc0f193fa"
      },
      "source": [
        "sampled_cust_features.describe()"
      ],
      "execution_count": 8,
      "outputs": [
        {
          "output_type": "execute_result",
          "data": {
            "text/html": [
              "<div>\n",
              "<style scoped>\n",
              "    .dataframe tbody tr th:only-of-type {\n",
              "        vertical-align: middle;\n",
              "    }\n",
              "\n",
              "    .dataframe tbody tr th {\n",
              "        vertical-align: top;\n",
              "    }\n",
              "\n",
              "    .dataframe thead th {\n",
              "        text-align: right;\n",
              "    }\n",
              "</style>\n",
              "<table border=\"1\" class=\"dataframe\">\n",
              "  <thead>\n",
              "    <tr style=\"text-align: right;\">\n",
              "      <th></th>\n",
              "      <th>unrealized_pl</th>\n",
              "      <th>realized_pl</th>\n",
              "      <th>performance</th>\n",
              "      <th>instruments_traded</th>\n",
              "      <th>sectors_traded</th>\n",
              "      <th>market_cap_portfolio</th>\n",
              "      <th>avg_vol</th>\n",
              "      <th>num_trades</th>\n",
              "      <th>lifetime</th>\n",
              "      <th>days_since_last_trade</th>\n",
              "      <th>avg_time_gap</th>\n",
              "      <th>std_time_gap</th>\n",
              "      <th>hhi</th>\n",
              "    </tr>\n",
              "  </thead>\n",
              "  <tbody>\n",
              "    <tr>\n",
              "      <th>count</th>\n",
              "      <td>5000.000000</td>\n",
              "      <td>5.000000e+03</td>\n",
              "      <td>5.000000e+03</td>\n",
              "      <td>5000.000000</td>\n",
              "      <td>5000.000000</td>\n",
              "      <td>5000.000000</td>\n",
              "      <td>5000.000000</td>\n",
              "      <td>5000.000000</td>\n",
              "      <td>5000.000000</td>\n",
              "      <td>5000.00000</td>\n",
              "      <td>5000.000000</td>\n",
              "      <td>5000.000000</td>\n",
              "      <td>5000.000000</td>\n",
              "    </tr>\n",
              "    <tr>\n",
              "      <th>mean</th>\n",
              "      <td>669.189164</td>\n",
              "      <td>-4.449161e+03</td>\n",
              "      <td>-3.779972e+03</td>\n",
              "      <td>9.068200</td>\n",
              "      <td>7.332800</td>\n",
              "      <td>6230.573763</td>\n",
              "      <td>2329.023303</td>\n",
              "      <td>3.148400</td>\n",
              "      <td>267.606000</td>\n",
              "      <td>55.32440</td>\n",
              "      <td>15.979937</td>\n",
              "      <td>18.926190</td>\n",
              "      <td>0.417491</td>\n",
              "    </tr>\n",
              "    <tr>\n",
              "      <th>std</th>\n",
              "      <td>2894.951904</td>\n",
              "      <td>4.208741e+04</td>\n",
              "      <td>4.212966e+04</td>\n",
              "      <td>8.526106</td>\n",
              "      <td>5.190591</td>\n",
              "      <td>13183.726411</td>\n",
              "      <td>7399.876776</td>\n",
              "      <td>4.797293</td>\n",
              "      <td>58.113611</td>\n",
              "      <td>77.46344</td>\n",
              "      <td>23.154825</td>\n",
              "      <td>21.029512</td>\n",
              "      <td>0.318909</td>\n",
              "    </tr>\n",
              "    <tr>\n",
              "      <th>min</th>\n",
              "      <td>-49328.200081</td>\n",
              "      <td>-1.364075e+06</td>\n",
              "      <td>-1.344546e+06</td>\n",
              "      <td>1.000000</td>\n",
              "      <td>1.000000</td>\n",
              "      <td>0.000000</td>\n",
              "      <td>0.265417</td>\n",
              "      <td>0.083333</td>\n",
              "      <td>2.000000</td>\n",
              "      <td>0.00000</td>\n",
              "      <td>0.000000</td>\n",
              "      <td>0.000000</td>\n",
              "      <td>0.000000</td>\n",
              "    </tr>\n",
              "    <tr>\n",
              "      <th>25%</th>\n",
              "      <td>0.000000</td>\n",
              "      <td>-3.406253e+02</td>\n",
              "      <td>-2.227403e+02</td>\n",
              "      <td>3.000000</td>\n",
              "      <td>3.000000</td>\n",
              "      <td>436.133989</td>\n",
              "      <td>105.962900</td>\n",
              "      <td>0.750000</td>\n",
              "      <td>226.000000</td>\n",
              "      <td>9.00000</td>\n",
              "      <td>4.514601</td>\n",
              "      <td>6.580345</td>\n",
              "      <td>0.168244</td>\n",
              "    </tr>\n",
              "    <tr>\n",
              "      <th>50%</th>\n",
              "      <td>126.454870</td>\n",
              "      <td>0.000000e+00</td>\n",
              "      <td>6.724615e+01</td>\n",
              "      <td>6.000000</td>\n",
              "      <td>6.000000</td>\n",
              "      <td>1985.603150</td>\n",
              "      <td>400.838513</td>\n",
              "      <td>1.666667</td>\n",
              "      <td>272.000000</td>\n",
              "      <td>20.00000</td>\n",
              "      <td>9.600000</td>\n",
              "      <td>12.392601</td>\n",
              "      <td>0.339183</td>\n",
              "    </tr>\n",
              "    <tr>\n",
              "      <th>75%</th>\n",
              "      <td>614.605003</td>\n",
              "      <td>1.600212e+01</td>\n",
              "      <td>4.423790e+02</td>\n",
              "      <td>12.000000</td>\n",
              "      <td>10.000000</td>\n",
              "      <td>6238.166906</td>\n",
              "      <td>1449.207177</td>\n",
              "      <td>3.583333</td>\n",
              "      <td>314.250000</td>\n",
              "      <td>62.00000</td>\n",
              "      <td>18.338235</td>\n",
              "      <td>23.007295</td>\n",
              "      <td>0.578868</td>\n",
              "    </tr>\n",
              "    <tr>\n",
              "      <th>max</th>\n",
              "      <td>74073.718081</td>\n",
              "      <td>3.134782e+05</td>\n",
              "      <td>3.813685e+05</td>\n",
              "      <td>73.000000</td>\n",
              "      <td>32.000000</td>\n",
              "      <td>200108.888000</td>\n",
              "      <td>152836.724083</td>\n",
              "      <td>79.666667</td>\n",
              "      <td>363.000000</td>\n",
              "      <td>363.00000</td>\n",
              "      <td>322.000000</td>\n",
              "      <td>198.697006</td>\n",
              "      <td>1.000000</td>\n",
              "    </tr>\n",
              "  </tbody>\n",
              "</table>\n",
              "</div>"
            ],
            "text/plain": [
              "       unrealized_pl   realized_pl  ...  std_time_gap          hhi\n",
              "count    5000.000000  5.000000e+03  ...   5000.000000  5000.000000\n",
              "mean      669.189164 -4.449161e+03  ...     18.926190     0.417491\n",
              "std      2894.951904  4.208741e+04  ...     21.029512     0.318909\n",
              "min    -49328.200081 -1.364075e+06  ...      0.000000     0.000000\n",
              "25%         0.000000 -3.406253e+02  ...      6.580345     0.168244\n",
              "50%       126.454870  0.000000e+00  ...     12.392601     0.339183\n",
              "75%       614.605003  1.600212e+01  ...     23.007295     0.578868\n",
              "max     74073.718081  3.134782e+05  ...    198.697006     1.000000\n",
              "\n",
              "[8 rows x 13 columns]"
            ]
          },
          "metadata": {
            "tags": []
          },
          "execution_count": 8
        }
      ]
    },
    {
      "cell_type": "markdown",
      "metadata": {
        "id": "bXVGABQqlDOw"
      },
      "source": [
        "## clustering "
      ]
    },
    {
      "cell_type": "code",
      "metadata": {
        "colab": {
          "base_uri": "https://localhost:8080/",
          "height": 282
        },
        "id": "Yy7adUN1krhP",
        "outputId": "4ef0ec53-a424-491c-e904-b0f411b1103c"
      },
      "source": [
        "\n",
        "# standardize features\n",
        "x_transformed = StandardScaler().fit_transform(sampled_cust_features)\n",
        "\n",
        "\n",
        "# elbow method, using within cluster sse as metric\n",
        "def calculate_WSS(points, kmax):\n",
        "    sse = []\n",
        "    for k in range(1, kmax+1):\n",
        "        kmeans = KMeans(n_clusters = k,  random_state=0).fit(points)\n",
        "        centroids = kmeans.cluster_centers_\n",
        "        pred_clusters = kmeans.predict(points)\n",
        "        curr_sse = 0\n",
        "        \n",
        "        # calculate square of Euclidean distance of each point from its cluster center and add to current WSS\n",
        "        for i in range(len(points)):\n",
        "            curr_center = centroids[pred_clusters[i]]\n",
        "            curr_sse += (points[i, 0] - curr_center[0]) ** 2 + (points[i, 1] - curr_center[1]) ** 2\n",
        "          \n",
        "        sse.append(curr_sse)\n",
        "    return sse\n",
        "\n",
        "wss = calculate_WSS(x_transformed, kmax=50)\n",
        "sns.lineplot(x=range(1, 51), y=wss)"
      ],
      "execution_count": null,
      "outputs": [
        {
          "output_type": "execute_result",
          "data": {
            "text/plain": [
              "<matplotlib.axes._subplots.AxesSubplot at 0x7f0603c20fd0>"
            ]
          },
          "metadata": {
            "tags": []
          },
          "execution_count": 82
        },
        {
          "output_type": "display_data",
          "data": {
            "image/png": "[encoded data removed]",
            "text/plain": [
              "<Figure size 432x288 with 1 Axes>"
            ]
          },
          "metadata": {
            "tags": [],
            "needs_background": "light"
          }
        }
      ]
    },
    {
      "cell_type": "markdown",
      "metadata": {
        "id": "A3TcwYXPGQl1"
      },
      "source": [
        "Judging from the SSE graph with the elbow method, the good number of cluster should be around 8-10.\n",
        "To simplify our analysis, I'll use a cluster=4 here to try to get some basic insights.\n"
      ]
    },
    {
      "cell_type": "code",
      "metadata": {
        "colab": {
          "base_uri": "https://localhost:8080/"
        },
        "id": "X0RWk3crOIzQ",
        "outputId": "807f8e44-8297-48c3-8d01-7df394d2e7c1"
      },
      "source": [
        "predicted = KMeans(n_clusters=4, random_state=0).fit_predict(x_transformed)\n",
        "\n",
        "for i in range(4):\n",
        "    idx = np.where(predicted == i)\n",
        "    print(sampled_cust_features.iloc[idx][['unrealized_pl', 'market_cap_portfolio', 'instruments_traded', 'sectors_traded',\n",
        "                                           'avg_vol', 'num_trades', 'hhi', 'days_since_last_trade', 'avg_time_gap', 'std_time_gap']].median())"
      ],
      "execution_count": null,
      "outputs": [
        {
          "output_type": "stream",
          "text": [
            "unrealized_pl             2143.614779\n",
            "market_cap_portfolio     28630.508975\n",
            "instruments_traded          28.000000\n",
            "sectors_traded              17.000000\n",
            "avg_vol                  18009.899333\n",
            "num_trades                  15.083333\n",
            "hhi                          0.179358\n",
            "days_since_last_trade        2.000000\n",
            "avg_time_gap                 1.540426\n",
            "std_time_gap                 3.611164\n",
            "dtype: float64\n",
            "unrealized_pl             56.560289\n",
            "market_cap_portfolio     892.001610\n",
            "instruments_traded         4.000000\n",
            "sectors_traded             4.000000\n",
            "avg_vol                  154.644949\n",
            "num_trades                 0.833333\n",
            "hhi                        0.504791\n",
            "days_since_last_trade     30.000000\n",
            "avg_time_gap              15.166667\n",
            "std_time_gap              15.708044\n",
            "dtype: float64\n",
            "unrealized_pl             1641.462252\n",
            "market_cap_portfolio     28463.923000\n",
            "instruments_traded          15.000000\n",
            "sectors_traded              12.000000\n",
            "avg_vol                  79532.853494\n",
            "num_trades                  32.833333\n",
            "hhi                          0.291378\n",
            "days_since_last_trade        7.000000\n",
            "avg_time_gap                 0.822384\n",
            "std_time_gap                 2.851629\n",
            "dtype: float64\n",
            "unrealized_pl             319.698439\n",
            "market_cap_portfolio     4501.779435\n",
            "instruments_traded         13.000000\n",
            "sectors_traded             11.000000\n",
            "avg_vol                  1113.219385\n",
            "num_trades                  3.750000\n",
            "hhi                         0.204126\n",
            "days_since_last_trade      12.000000\n",
            "avg_time_gap                5.704545\n",
            "std_time_gap                9.981884\n",
            "dtype: float64\n"
          ],
          "name": "stdout"
        }
      ]
    },
    {
      "cell_type": "markdown",
      "metadata": {
        "id": "ywOnElK-WEY1"
      },
      "source": [
        "- Group 1: Frequent traders with low turnover\n",
        "- Group 2: Infrequent traders with low asset turnover, high concentration in a few securities\n",
        "- Group 3: Power traders with high turnover, higher asset concentration than group 1\n",
        "- Group 4: \"average joes\" who trade a few times a month\n",
        "\n",
        "Further action items:\n",
        "- More feature engineering, I ran out of time to do more of that\n",
        "- Look more into higher number of clusters, might give different business insights \n",
        "- Try different clustering methods\n"
      ]
    },
    {
      "cell_type": "markdown",
      "metadata": {
        "id": "-8Z0RQKPGgA-"
      },
      "source": [
        "# Bonus (Predict activity from first 3 trades)\n",
        "\n",
        "- I'm going to use the same features from the last part, except we limit the feature generation to the first three transactions.\n",
        "- Target -> number of trades in the 6th month after acquisition"
      ]
    },
    {
      "cell_type": "code",
      "metadata": {
        "colab": {
          "base_uri": "https://localhost:8080/"
        },
        "id": "8IoReNKPpMQh",
        "outputId": "65ad06c9-1cc4-4b5a-aa35-6d4c202f2c98"
      },
      "source": [
        "cols = ['unrealized_pl', 'realized_pl', 'performance', 'instruments_traded', \n",
        "            'sectors_traded', 'market_cap_portfolio', \n",
        "            'avg_vol', 'num_trades',\n",
        "            'lifetime', 'days_since_last_trade', 'avg_time_gap', 'std_time_gap', 'hhi', 'target']\n",
        "\n",
        "future_preds = pd.DataFrame(\n",
        "    index = df.customer_id.unique(),\n",
        "    columns = cols\n",
        ")\n",
        "\n",
        "sampled_preds = future_preds.sample(10000, random_state=0).apply(lambda x: get_feature_target(x.name), axis=1, result_type='expand')\n",
        "sampled_preds.columns = cols\n",
        "sampled_preds = sampled_preds.loc[~sampled_preds.performance.isna()].fillna(0)\n",
        "sampled_preds.shape"
      ],
      "execution_count": 137,
      "outputs": [
        {
          "output_type": "execute_result",
          "data": {
            "text/plain": [
              "(8335, 14)"
            ]
          },
          "metadata": {
            "tags": []
          },
          "execution_count": 137
        }
      ]
    },
    {
      "cell_type": "code",
      "metadata": {
        "colab": {
          "base_uri": "https://localhost:8080/",
          "height": 468
        },
        "id": "W0H9oiGJsefO",
        "outputId": "83447785-0367-4b8f-8f23-456d8856c968"
      },
      "source": [
        "from sklearn.preprocessing import QuantileTransformer \n",
        "\n",
        "X = sampled_preds[cols[:-1]]\n",
        "X_transformed = X\n",
        "# X_transformed = StandardScaler().fit_transform(X)\n",
        "y = sampled_preds[[cols[-1]]]\n",
        "print(y.describe())\n",
        "y.hist(bins=100)\n"
      ],
      "execution_count": 144,
      "outputs": [
        {
          "output_type": "stream",
          "text": [
            "            target\n",
            "count  8335.000000\n",
            "mean      3.551650\n",
            "std       7.216488\n",
            "min       0.000000\n",
            "25%       0.000000\n",
            "50%       1.000000\n",
            "75%       4.000000\n",
            "max     121.000000\n"
          ],
          "name": "stdout"
        },
        {
          "output_type": "execute_result",
          "data": {
            "text/plain": [
              "array([[<matplotlib.axes._subplots.AxesSubplot object at 0x7f64f6141850>]],\n",
              "      dtype=object)"
            ]
          },
          "metadata": {
            "tags": []
          },
          "execution_count": 144
        },
        {
          "output_type": "display_data",
          "data": {
            "image/png": "[encoded data removed]",
            "text/plain": [
              "<Figure size 432x288 with 1 Axes>"
            ]
          },
          "metadata": {
            "tags": [],
            "needs_background": "light"
          }
        }
      ]
    },
    {
      "cell_type": "markdown",
      "metadata": {
        "id": "ZyvSd0DPvxTL"
      },
      "source": [
        "Target variable is highly long tail, transforming it to something more usable"
      ]
    },
    {
      "cell_type": "code",
      "metadata": {
        "colab": {
          "base_uri": "https://localhost:8080/",
          "height": 315
        },
        "id": "M81k425iv2j1",
        "outputId": "f95f8efa-8b4b-43a0-83af-eb4b42322fe8"
      },
      "source": [
        "target = y.apply(np.log1p)\n",
        "target.hist(bins=10)"
      ],
      "execution_count": 155,
      "outputs": [
        {
          "output_type": "execute_result",
          "data": {
            "text/plain": [
              "array([[<matplotlib.axes._subplots.AxesSubplot object at 0x7f64f6f1d510>]],\n",
              "      dtype=object)"
            ]
          },
          "metadata": {
            "tags": []
          },
          "execution_count": 155
        },
        {
          "output_type": "display_data",
          "data": {
            "image/png": "[encoded data removed]",
            "text/plain": [
              "<Figure size 432x288 with 1 Axes>"
            ]
          },
          "metadata": {
            "tags": [],
            "needs_background": "light"
          }
        }
      ]
    },
    {
      "cell_type": "code",
      "metadata": {
        "colab": {
          "base_uri": "https://localhost:8080/"
        },
        "id": "xTFu-X7owPJy",
        "outputId": "305f8684-cfa9-4f78-eb2d-3d5afdb41803"
      },
      "source": [
        "from sklearn.ensemble import RandomForestRegressor\n",
        "\n",
        "X_train, X_test, y_train, y_test = train_test_split(X_transformed, target, test_size=0.2, random_state=1)\n",
        "\n",
        "print(X_train.shape, y_test.shape)\n",
        "\n",
        "regr = RandomForestRegressor(max_depth=5, criterion='mse', n_estimators=200,  random_state=0)\n",
        "model = regr.fit(X_train, y_train)\n",
        "\n",
        "print('Training Set Performance')\n",
        "y_pred = regr.predict(X_train)\n",
        "y_true = y_train\n",
        "print(\n",
        "  f'R2: {r2_score(y_true, y_pred)}, MAE: {mean_absolute_error(y_true, y_pred)}, '\n",
        "  f'  MSE: {mean_squared_error(y_true, y_pred)}, MedAE: {median_absolute_error(y_true, y_pred)}'\n",
        ")\n",
        "\n",
        "print('Validation Performance')\n",
        "y_pred = regr.predict(X_test)\n",
        "y_true = y_test\n",
        "print(\n",
        "  f'R2: {r2_score(y_true, y_pred, )}, MAE: {mean_absolute_error(y_true, y_pred)}, '\n",
        "  f'  MSE: {mean_squared_error(y_true, y_pred)}, MedAE: {median_absolute_error(y_true, y_pred)}'\n",
        ")"
      ],
      "execution_count": 157,
      "outputs": [
        {
          "output_type": "stream",
          "text": [
            "(6668, 13) (1667, 1)\n"
          ],
          "name": "stdout"
        },
        {
          "output_type": "stream",
          "text": [
            "/usr/local/lib/python3.7/dist-packages/ipykernel_launcher.py:8: DataConversionWarning: A column-vector y was passed when a 1d array was expected. Please change the shape of y to (n_samples,), for example using ravel().\n",
            "  \n"
          ],
          "name": "stderr"
        },
        {
          "output_type": "stream",
          "text": [
            "Training Set Performance\n",
            "R2: 0.123468768263153, MAE: 0.6986280648326826,   MSE: 0.782085125080709, MedAE: 0.636591436336734\n",
            "Validation Performance\n",
            "R2: 0.09335035386916124, MAE: 0.7248888186440673,   MSE: 0.8625764683828893, MedAE: 0.6651241946394543\n"
          ],
          "name": "stdout"
        }
      ]
    },
    {
      "cell_type": "markdown",
      "metadata": {
        "id": "H1V0RV7r2LpN"
      },
      "source": [
        "## Comments on Bonus\n",
        "\n",
        "- The performance isn't very good - R2 is only around 0.1. I ran out of time but we could look into it more. More feature engineering around customer behavior would definitely help\n",
        "- We could do hyperparameter tuning to juice more performance out of RF, but feature engineering should come first.\n",
        "- on average, a lot of customers don't make any transactions after 6 months (probably churned). But the distribution is quite long tail -> meaning there are a lot of power users who make a lot of transactions. These users are the revenue generators for TR (since TR makes money per transaction rather than by traded volume)\n",
        "- Knowing the supplies of securities on TR and competitors would help in predicting as well."
      ]
    }
  ]
}